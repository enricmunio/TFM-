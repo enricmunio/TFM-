{
  "nbformat": 4,
  "nbformat_minor": 0,
  "metadata": {
    "colab": {
      "provenance": []
    },
    "kernelspec": {
      "name": "python3",
      "display_name": "Python 3"
    },
    "language_info": {
      "name": "python"
    }
  },
  "cells": [
    {
      "cell_type": "code",
      "execution_count": null,
      "metadata": {
        "id": "fZV9KAPVMrIq"
      },
      "outputs": [],
      "source": [
        "import numpy as np\n",
        "import tensorflow as tf\n",
        "from tensorflow import keras\n",
        "import pandas as pd\n",
        "import matplotlib.pyplot as plt\n",
        "from matplotlib import rc\n",
        "from sklearn.preprocessing import StandardScaler\n",
        "from sklearn.metrics import accuracy_score, confusion_matrix, classification_report\n",
        "from tensorflow.keras.models import Sequential\n",
        "from tensorflow.keras.layers import Dense\n",
        "from sklearn.feature_selection import f_classif\n",
        "from tensorflow.keras.optimizers import SGD"
      ]
    },
    {
      "cell_type": "code",
      "source": [
        "from google.colab import files\n",
        "from google.colab import drive\n",
        "drive.mount('/content/drive')"
      ],
      "metadata": {
        "colab": {
          "base_uri": "https://localhost:8080/"
        },
        "id": "UG4P92n0M1BE",
        "outputId": "8a04262a-0866-4170-a661-c164ab6868a1"
      },
      "execution_count": null,
      "outputs": [
        {
          "output_type": "stream",
          "name": "stdout",
          "text": [
            "Mounted at /content/drive\n"
          ]
        }
      ]
    },
    {
      "cell_type": "code",
      "source": [
        "df= pd.read_csv(\"/content/drive/MyDrive/DADES_TFM_SECTORS.csv\",sep=';', encoding='ISO-8859-1')\n",
        "df.shape"
      ],
      "metadata": {
        "colab": {
          "base_uri": "https://localhost:8080/"
        },
        "id": "TQG3HuioM5CQ",
        "outputId": "7c3b534d-19d1-4019-c925-25c8bd14927c"
      },
      "execution_count": null,
      "outputs": [
        {
          "output_type": "execute_result",
          "data": {
            "text/plain": [
              "(1032318, 11)"
            ]
          },
          "metadata": {},
          "execution_count": 3
        }
      ]
    },
    {
      "cell_type": "code",
      "source": [
        "x = df[['Any observat ','Antiguitat','length','matcat_id','pnom','dnom','Fallades anteriors','Fallades anteriors en el mateix sector']]\n",
        "y = df[['fallada']]"
      ],
      "metadata": {
        "id": "CPY9KFr_NLA3"
      },
      "execution_count": null,
      "outputs": []
    },
    {
      "cell_type": "code",
      "source": [
        "campo_division = 'Any observat '"
      ],
      "metadata": {
        "id": "olNSJ2jaNXi7"
      },
      "execution_count": null,
      "outputs": []
    },
    {
      "cell_type": "code",
      "source": [
        "x_entrenamiento = x[x['Any observat ']< 2016]\n",
        "y_entrenamiento = y[y.index.isin(x_entrenamiento.index)]"
      ],
      "metadata": {
        "id": "W26F0UqsNZmL"
      },
      "execution_count": null,
      "outputs": []
    },
    {
      "cell_type": "code",
      "source": [
        "x_validacion = x[x['Any observat '] >= 2016]\n",
        "y_validacion = y[y.index.isin(x_validacion.index)]"
      ],
      "metadata": {
        "id": "9o55Hg4JNbXI"
      },
      "execution_count": null,
      "outputs": []
    },
    {
      "cell_type": "code",
      "source": [
        "columnas_seleccionadas = ['Antiguitat','length','matcat_id','pnom','dnom','Fallades anteriors','Fallades anteriors en el mateix sector']\n",
        "x_def = x[columnas_seleccionadas]\n",
        "x_validacion_def = x_validacion[columnas_seleccionadas]\n",
        "x_entrenamiento_def = x_entrenamiento[columnas_seleccionadas]"
      ],
      "metadata": {
        "id": "Uup3ZfUCNdQf"
      },
      "execution_count": null,
      "outputs": []
    },
    {
      "cell_type": "code",
      "source": [
        "from sklearn.preprocessing import StandardScaler\n",
        "\n",
        "scaler = StandardScaler()\n",
        "x_entrenamiento_def = scaler.fit_transform(x_entrenamiento_def)\n",
        "x_validacion_def = scaler.transform(x_validacion_def)"
      ],
      "metadata": {
        "id": "vlOn3ahCNhZH"
      },
      "execution_count": null,
      "outputs": []
    },
    {
      "cell_type": "code",
      "source": [
        "modelo = keras.Sequential()\n",
        "modelo.add(keras.layers.Dense(units=128,activation='relu', input_shape=(x_entrenamiento_def.shape[1],)),)\n",
        "modelo.add(keras.layers.Dropout(rate=0.3))\n",
        "modelo.add(keras.layers.Dense(units=128,activation='relu'))\n",
        "modelo.add(keras.layers.Dropout(rate=0.3))\n",
        "modelo.add(keras.layers.Dense(units=1,activation='sigmoid'))"
      ],
      "metadata": {
        "id": "UN0PK3kGNkF7"
      },
      "execution_count": null,
      "outputs": []
    },
    {
      "cell_type": "code",
      "source": [
        "from tensorflow.keras.optimizers import Adam\n",
        "\n",
        "opt = Adam(learning_rate=0.0001)\n",
        "modelo.compile(optimizer=opt, loss='binary_crossentropy', metrics=['accuracy'])"
      ],
      "metadata": {
        "id": "0X4C0Co3NmhT"
      },
      "execution_count": null,
      "outputs": []
    },
    {
      "cell_type": "code",
      "source": [
        "historia = modelo.fit(x_entrenamiento_def, y_entrenamiento, epochs= 20, batch_size=32, validation_split=0.2)"
      ],
      "metadata": {
        "colab": {
          "base_uri": "https://localhost:8080/"
        },
        "id": "ahUUDQUFNomf",
        "outputId": "c2eaa2c7-ba2d-42af-f876-37455f802741"
      },
      "execution_count": null,
      "outputs": [
        {
          "output_type": "stream",
          "name": "stdout",
          "text": [
            "Epoch 1/20\n",
            "2982/2982 [==============================] - 11s 3ms/step - loss: 0.0701 - accuracy: 0.9910 - val_loss: 0.0551 - val_accuracy: 0.9907\n",
            "Epoch 2/20\n",
            "2982/2982 [==============================] - 9s 3ms/step - loss: 0.0368 - accuracy: 0.9938 - val_loss: 0.0536 - val_accuracy: 0.9907\n",
            "Epoch 3/20\n",
            "2982/2982 [==============================] - 8s 3ms/step - loss: 0.0358 - accuracy: 0.9938 - val_loss: 0.0521 - val_accuracy: 0.9907\n",
            "Epoch 4/20\n",
            "2982/2982 [==============================] - 9s 3ms/step - loss: 0.0351 - accuracy: 0.9938 - val_loss: 0.0517 - val_accuracy: 0.9907\n",
            "Epoch 5/20\n",
            "2982/2982 [==============================] - 8s 3ms/step - loss: 0.0350 - accuracy: 0.9939 - val_loss: 0.0522 - val_accuracy: 0.9907\n",
            "Epoch 6/20\n",
            "2982/2982 [==============================] - 12s 4ms/step - loss: 0.0346 - accuracy: 0.9938 - val_loss: 0.0518 - val_accuracy: 0.9907\n",
            "Epoch 7/20\n",
            "2982/2982 [==============================] - 8s 3ms/step - loss: 0.0342 - accuracy: 0.9939 - val_loss: 0.0517 - val_accuracy: 0.9907\n",
            "Epoch 8/20\n",
            "2982/2982 [==============================] - 11s 4ms/step - loss: 0.0339 - accuracy: 0.9938 - val_loss: 0.0509 - val_accuracy: 0.9905\n",
            "Epoch 9/20\n",
            "2982/2982 [==============================] - 9s 3ms/step - loss: 0.0338 - accuracy: 0.9938 - val_loss: 0.0513 - val_accuracy: 0.9905\n",
            "Epoch 10/20\n",
            "2982/2982 [==============================] - 8s 3ms/step - loss: 0.0335 - accuracy: 0.9939 - val_loss: 0.0517 - val_accuracy: 0.9907\n",
            "Epoch 11/20\n",
            "2982/2982 [==============================] - 9s 3ms/step - loss: 0.0332 - accuracy: 0.9939 - val_loss: 0.0514 - val_accuracy: 0.9907\n",
            "Epoch 12/20\n",
            "2982/2982 [==============================] - 8s 3ms/step - loss: 0.0334 - accuracy: 0.9939 - val_loss: 0.0511 - val_accuracy: 0.9905\n",
            "Epoch 13/20\n",
            "2982/2982 [==============================] - 9s 3ms/step - loss: 0.0333 - accuracy: 0.9939 - val_loss: 0.0523 - val_accuracy: 0.9904\n",
            "Epoch 14/20\n",
            "2982/2982 [==============================] - 8s 3ms/step - loss: 0.0331 - accuracy: 0.9939 - val_loss: 0.0517 - val_accuracy: 0.9905\n",
            "Epoch 15/20\n",
            "2982/2982 [==============================] - 9s 3ms/step - loss: 0.0330 - accuracy: 0.9938 - val_loss: 0.0506 - val_accuracy: 0.9904\n",
            "Epoch 16/20\n",
            "2982/2982 [==============================] - 9s 3ms/step - loss: 0.0333 - accuracy: 0.9938 - val_loss: 0.0513 - val_accuracy: 0.9907\n",
            "Epoch 17/20\n",
            "2982/2982 [==============================] - 8s 3ms/step - loss: 0.0331 - accuracy: 0.9938 - val_loss: 0.0508 - val_accuracy: 0.9907\n",
            "Epoch 18/20\n",
            "2982/2982 [==============================] - 9s 3ms/step - loss: 0.0330 - accuracy: 0.9939 - val_loss: 0.0514 - val_accuracy: 0.9904\n",
            "Epoch 19/20\n",
            "2982/2982 [==============================] - 8s 3ms/step - loss: 0.0328 - accuracy: 0.9938 - val_loss: 0.0511 - val_accuracy: 0.9904\n",
            "Epoch 20/20\n",
            "2982/2982 [==============================] - 9s 3ms/step - loss: 0.0327 - accuracy: 0.9939 - val_loss: 0.0515 - val_accuracy: 0.9901\n"
          ]
        }
      ]
    },
    {
      "cell_type": "code",
      "source": [
        "y_pred_prob = modelo.predict(x_validacion_def)\n",
        "y_pred_classes = np.round(y_pred_prob).flatten()"
      ],
      "metadata": {
        "colab": {
          "base_uri": "https://localhost:8080/"
        },
        "id": "RpIr5yRPObJB",
        "outputId": "3622424e-5802-4e65-b60b-f78b42f419e1"
      },
      "execution_count": null,
      "outputs": [
        {
          "output_type": "stream",
          "name": "stdout",
          "text": [
            "1917/1917 [==============================] - 3s 1ms/step\n"
          ]
        }
      ]
    },
    {
      "cell_type": "code",
      "source": [
        "weights_input_layer = modelo.layers[0].get_weights()[0]\n",
        "from sklearn.feature_selection import f_classif\n",
        "f_values, _ = f_classif(x_entrenamiento_def, y_entrenamiento)\n",
        "importance_df = pd.DataFrame({'Variable': x_def.columns[:9], 'Importancia': f_values})\n",
        "importance_df = importance_df.sort_values(by='Importancia', ascending=False)\n",
        "print(importance_df)"
      ],
      "metadata": {
        "colab": {
          "base_uri": "https://localhost:8080/"
        },
        "id": "XX28JDyPCzt-",
        "outputId": "bf182f38-a4d7-407a-c10f-4da3f10d89c1"
      },
      "execution_count": null,
      "outputs": [
        {
          "output_type": "stream",
          "name": "stdout",
          "text": [
            "                                 Variable  Importancia\n",
            "5                      Fallades anteriors  1645.892883\n",
            "1                                  length   924.647428\n",
            "6  Fallades anteriors en el mateix sector   344.704361\n",
            "3                                    pnom   103.053239\n",
            "4                                    dnom    96.058518\n",
            "0                              Antiguitat    61.113069\n",
            "2                               matcat_id     0.020527\n"
          ]
        },
        {
          "output_type": "stream",
          "name": "stderr",
          "text": [
            "/usr/local/lib/python3.10/dist-packages/sklearn/utils/validation.py:1143: DataConversionWarning: A column-vector y was passed when a 1d array was expected. Please change the shape of y to (n_samples, ), for example using ravel().\n",
            "  y = column_or_1d(y, warn=True)\n"
          ]
        }
      ]
    },
    {
      "cell_type": "code",
      "source": [
        "thresholds = [0.005]"
      ],
      "metadata": {
        "id": "SqJMYRjnOgkx"
      },
      "execution_count": null,
      "outputs": []
    },
    {
      "cell_type": "code",
      "source": [
        "for threshold in thresholds:\n",
        "    y_pred = (y_pred_prob >= threshold).astype(int)\n",
        "    y_pred_classes = np.round(y_pred).flatten()"
      ],
      "metadata": {
        "id": "JoB_7JqbOkPW"
      },
      "execution_count": null,
      "outputs": []
    },
    {
      "cell_type": "code",
      "source": [
        "accuracy = accuracy_score(y_validacion, y_pred_classes)\n",
        "conf_matrix = confusion_matrix(y_validacion, y_pred_classes)\n"
      ],
      "metadata": {
        "id": "PEUDItaXOmoA"
      },
      "execution_count": null,
      "outputs": []
    },
    {
      "cell_type": "code",
      "source": [
        "    print(f\"Threshold: {threshold}\")\n",
        "    print(f\"Accuracy: {accuracy:.2f}\")\n",
        "    print(conf_matrix)\n",
        "    print(\"\\n\")"
      ],
      "metadata": {
        "colab": {
          "base_uri": "https://localhost:8080/"
        },
        "id": "B-p8zO05Oo2N",
        "outputId": "2660a822-97ef-4f03-b6be-2fabe1b50eae"
      },
      "execution_count": null,
      "outputs": [
        {
          "output_type": "stream",
          "name": "stdout",
          "text": [
            "Threshold: 0.005\n",
            "Accuracy: 0.75\n",
            "[[45917 15181]\n",
            " [   42   179]]\n",
            "\n",
            "\n"
          ]
        }
      ]
    },
    {
      "cell_type": "code",
      "source": [
        "P=conf_matrix[1]\n",
        "N=conf_matrix[0]\n",
        "VP=P[1]\n",
        "FN=P[0]\n",
        "VN=N[0]\n",
        "FP=N[1]"
      ],
      "metadata": {
        "id": "_WaO3bKHO0Wo"
      },
      "execution_count": null,
      "outputs": []
    },
    {
      "cell_type": "code",
      "source": [
        "sensibilidad = VP / (VP + FN)\n",
        "especificidad = VN / (VN + FP)\n",
        "exactitud = (VP + VN) / conf_matrix.sum()"
      ],
      "metadata": {
        "id": "KrBFhItMO2uZ"
      },
      "execution_count": null,
      "outputs": []
    },
    {
      "cell_type": "code",
      "source": [
        "print(\"Sensibilidad:\",sensibilidad)\n",
        "print(\"Especificidad:\" ,especificidad)\n",
        "print(\"Exactitud:\", exactitud)"
      ],
      "metadata": {
        "colab": {
          "base_uri": "https://localhost:8080/"
        },
        "id": "uEtxKFtxO4o8",
        "outputId": "ea67f86b-2d1f-4df4-c095-97f2eec24846"
      },
      "execution_count": null,
      "outputs": [
        {
          "output_type": "stream",
          "name": "stdout",
          "text": [
            "Sensibilidad: 0.8099547511312217\n",
            "Especificidad: 0.7515303283249861\n",
            "Exactitud: 0.751740895970254\n"
          ]
        }
      ]
    },
    {
      "cell_type": "code",
      "source": [
        "from sklearn.metrics import roc_curve, auc"
      ],
      "metadata": {
        "id": "WPCkR-8-Px5n"
      },
      "execution_count": null,
      "outputs": []
    },
    {
      "cell_type": "code",
      "source": [
        "fpr, tpr, thresholds = roc_curve(y_validacion, y_pred_classes)\n",
        "roc_auc = auc(fpr, tpr)"
      ],
      "metadata": {
        "id": "JpE9NPWQPztq"
      },
      "execution_count": null,
      "outputs": []
    },
    {
      "cell_type": "code",
      "source": [
        "plt.figure(figsize=(10, 6))\n",
        "plt.plot(fpr, tpr, color='blue', lw=2, label='Curva ROC (AUC = %0.2f)' % roc_auc)\n",
        "plt.plot([0, 1], [0, 1], color='gray', lw=2, linestyle='--')\n",
        "plt.xlim([0.0, 1.0])\n",
        "plt.ylim([0.0, 1.05])\n",
        "plt.xlabel('Tasa de Falsos Positivos (FPR)')\n",
        "plt.ylabel('Tasa de Verdaderos Positivos (TPR)')\n",
        "plt.title('Curva ROC')\n",
        "plt.legend(loc=\"lower right\")\n",
        "plt.grid(True)\n",
        "plt.show()"
      ],
      "metadata": {
        "colab": {
          "base_uri": "https://localhost:8080/",
          "height": 564
        },
        "id": "xDDlSIBdP2MG",
        "outputId": "8e0ad98b-8877-4948-a6a9-00816123d2af"
      },
      "execution_count": null,
      "outputs": [
        {
          "output_type": "display_data",
          "data": {
            "text/plain": [
              "<Figure size 1000x600 with 1 Axes>"
            ],
            "image/png": "[encoded data removed]"
          },
          "metadata": {}
        }
      ]
    }
  ]
}